{
 "cells": [
  {
   "cell_type": "markdown",
   "metadata": {},
   "source": [
    "# 데이터 가져오기"
   ]
  },
  {
   "cell_type": "markdown",
   "metadata": {},
   "source": [
    "### 한국 관광데이터 숙소정보 리스트"
   ]
  },
  {
   "cell_type": "code",
   "execution_count": 3,
   "metadata": {},
   "outputs": [],
   "source": [
    "mykey = ''"
   ]
  },
  {
   "cell_type": "code",
   "execution_count": 4,
   "metadata": {},
   "outputs": [
    {
     "name": "stderr",
     "output_type": "stream",
     "text": [
      "/home/encore/miniconda3/envs/lanchain/lib/python3.10/site-packages/bs4/builder/__init__.py:545: XMLParsedAsHTMLWarning: It looks like you're parsing an XML document using an HTML parser. If this really is an HTML document (maybe it's XHTML?), you can ignore or filter this warning. If it's XML, you should know that using an XML parser will be more reliable. To parse this document as XML, make sure you have the lxml package installed, and pass the keyword argument `features=\"xml\"` into the BeautifulSoup constructor.\n",
      "  warnings.warn(\n"
     ]
    }
   ],
   "source": [
    "import requests\n",
    "from bs4 import BeautifulSoup\n",
    "import pandas as pd\n",
    "import numpy as np\n",
    "import json\n",
    "\n",
    "url = f'http://apis.data.go.kr/B551011/KorService1/searchStay1?areaCode=&sigunguCode=&ServiceKey={mykey}&listYN=Y&MobileOS=ETC&MobileApp=AppTest&arrange=A&numOfRows=3900&pageNo=1'\n",
    "rt = requests.get(url)\n",
    "items = BeautifulSoup(rt.text).select('item')"
   ]
  },
  {
   "cell_type": "code",
   "execution_count": 5,
   "metadata": {},
   "outputs": [
    {
     "data": {
      "text/plain": [
       "3887"
      ]
     },
     "execution_count": 5,
     "metadata": {},
     "output_type": "execute_result"
    }
   ],
   "source": [
    "len(items)"
   ]
  },
  {
   "cell_type": "markdown",
   "metadata": {},
   "source": [
    "### infoDF 생성 (숙소명- contentid - contenttypeid)"
   ]
  },
  {
   "cell_type": "code",
   "execution_count": 11,
   "metadata": {},
   "outputs": [],
   "source": [
    "data = []\n",
    "for x in items:\n",
    "    title = x.find('title').text\n",
    "    contentid = x.find('contentid').text\n",
    "    contenttypeid = x.find('contenttypeid').text\n",
    "    \n",
    "    data.append({'title': title, 'contentid': contentid, 'contenttypeid' : contenttypeid})\n",
    "\n",
    "infoDF = pd.DataFrame(data)"
   ]
  },
  {
   "cell_type": "code",
   "execution_count": 12,
   "metadata": {},
   "outputs": [],
   "source": [
    "# 파일 저장 \n",
    "infoDF.to_csv('./data/infoDF.csv', index=False, encoding='utf-8')"
   ]
  },
  {
   "cell_type": "code",
   "execution_count": 14,
   "metadata": {},
   "outputs": [
    {
     "data": {
      "text/html": [
       "<div>\n",
       "<style scoped>\n",
       "    .dataframe tbody tr th:only-of-type {\n",
       "        vertical-align: middle;\n",
       "    }\n",
       "\n",
       "    .dataframe tbody tr th {\n",
       "        vertical-align: top;\n",
       "    }\n",
       "\n",
       "    .dataframe thead th {\n",
       "        text-align: right;\n",
       "    }\n",
       "</style>\n",
       "<table border=\"1\" class=\"dataframe\">\n",
       "  <thead>\n",
       "    <tr style=\"text-align: right;\">\n",
       "      <th></th>\n",
       "      <th>title</th>\n",
       "      <th>contentid</th>\n",
       "      <th>contenttypeid</th>\n",
       "    </tr>\n",
       "  </thead>\n",
       "  <tbody>\n",
       "    <tr>\n",
       "      <th>0</th>\n",
       "      <td>가경재</td>\n",
       "      <td>2465071</td>\n",
       "      <td>32</td>\n",
       "    </tr>\n",
       "    <tr>\n",
       "      <th>1</th>\n",
       "      <td>가락관광호텔</td>\n",
       "      <td>142785</td>\n",
       "      <td>32</td>\n",
       "    </tr>\n",
       "    <tr>\n",
       "      <th>2</th>\n",
       "      <td>가락청</td>\n",
       "      <td>2671267</td>\n",
       "      <td>32</td>\n",
       "    </tr>\n",
       "    <tr>\n",
       "      <th>3</th>\n",
       "      <td>가람나무</td>\n",
       "      <td>2627867</td>\n",
       "      <td>32</td>\n",
       "    </tr>\n",
       "    <tr>\n",
       "      <th>4</th>\n",
       "      <td>가람초연재</td>\n",
       "      <td>1865597</td>\n",
       "      <td>32</td>\n",
       "    </tr>\n",
       "  </tbody>\n",
       "</table>\n",
       "</div>"
      ],
      "text/plain": [
       "    title contentid contenttypeid\n",
       "0     가경재   2465071            32\n",
       "1  가락관광호텔    142785            32\n",
       "2     가락청   2671267            32\n",
       "3    가람나무   2627867            32\n",
       "4   가람초연재   1865597            32"
      ]
     },
     "execution_count": 14,
     "metadata": {},
     "output_type": "execute_result"
    }
   ],
   "source": [
    "infoDF.head(5)"
   ]
  },
  {
   "cell_type": "code",
   "execution_count": null,
   "metadata": {},
   "outputs": [],
   "source": []
  },
  {
   "cell_type": "markdown",
   "metadata": {},
   "source": [
    "## contentid, contenttypeid 를 사용해 각 상세정보 가져오기"
   ]
  },
  {
   "cell_type": "markdown",
   "metadata": {},
   "source": [
    "### 기본정보 조회 함수"
   ]
  },
  {
   "cell_type": "code",
   "execution_count": 23,
   "metadata": {},
   "outputs": [],
   "source": [
    "def selectInfo2(contentid, contenttypeid):\n",
    "    \n",
    "    all_url = f'''\n",
    "    https://api.visitkorea.or.kr/openapi/validate/gwrest/KorService1/detailCommon1?ServiceKey=TourAPI&contentTypeId={contenttypeid}&contentId={contentid}&MobileOS=ETC&MobileApp=AppTest&defaultYN=Y&firstImageYN=Y&areacodeYN=Y&catcodeYN=Y&addrinfoYN=Y&mapinfoYN=Y&overviewYN=Y\n",
    "    '''.strip()\n",
    "    r = requests.get(all_url)\n",
    "    items = BeautifulSoup(r.text).select_one('item')\n",
    "    \n",
    "    addr1 = items.find('addr1').text\n",
    "    overview = items.find('overview').text\n",
    "    imglilk = []\n",
    "    firstimage = items.find('firstimage').text\n",
    "    if firstimage != '':\n",
    "        imglilk.append(firstimage)\n",
    "    firstimage2 = items.find('firstimage2').text\n",
    "    \n",
    "    if firstimage2 != '':\n",
    "        imglilk.append(firstimage2)\n",
    "    \n",
    "    return  addr1, overview, imglilk"
   ]
  },
  {
   "cell_type": "markdown",
   "metadata": {},
   "source": [
    "### 숙소정보 조회 함수"
   ]
  },
  {
   "cell_type": "code",
   "execution_count": 34,
   "metadata": {},
   "outputs": [],
   "source": [
    "def sukso_info(contentid, contenttypeid):\n",
    "    \n",
    "    all_url = f'''\n",
    "    https://api.visitkorea.or.kr/openapi/validate/gwrest/KorService1/detailIntro1?ServiceKey=TourAPI&contentTypeId={contenttypeid}&contentId={contentid}&MobileOS=ETC&MobileApp=AppTest\n",
    "    '''.strip()\n",
    "    r = requests.get(all_url)\n",
    "    items = BeautifulSoup(r.text).select_one('item')  \n",
    "    if not items:\n",
    "            return '해당 정보가 없습니다.'\n",
    "        \n",
    "    # 태그와 컬럼 매핑\n",
    "    mapping = {\n",
    "        'roomtype': '객실유형',\n",
    "        'roomcount': '객실 수',\n",
    "        'refundregulation': '환불 규정',\n",
    "        'checkintime': '체크인',\n",
    "        'checkouttime': '체크아웃',\n",
    "        'chkcooking': '조리가능여부',\n",
    "        'parkinglodging': '주차가능여부',\n",
    "        'pickup': '픽업서비스',\n",
    "        'accomcountlodging': '전체 수용인원',\n",
    "        'infocenterlodging': '문의 안내',\n",
    "        'reservationlodging': '예약 안내',\n",
    "        'reservationurl': '예약안내 사이트',\n",
    "        'scalelodging': '총 규모'\n",
    "    }\n",
    "\n",
    "    # 정보 추출\n",
    "    txt = '-숙소 기본정보-\\n'\n",
    "    for tag, col in mapping.items():\n",
    "        value = items.find(tag).text.strip() if items.find(tag) else ''\n",
    "        if value:  # 정보가 있으면 추가\n",
    "            txt += f'{col}: {value}\\n'\n",
    "\n",
    "    return  txt"
   ]
  },
  {
   "cell_type": "markdown",
   "metadata": {},
   "source": [
    "### 객실정보 조회 함수"
   ]
  },
  {
   "cell_type": "code",
   "execution_count": 25,
   "metadata": {},
   "outputs": [],
   "source": [
    "def room_info(contentid, contenttypeid):\n",
    "    room_url = f'''\n",
    "https://api.visitkorea.or.kr/openapi/validate/gwrest/KorService1/detailInfo1?ServiceKey=TourAPI&contentTypeId={contenttypeid}&contentId={contentid}&MobileOS=ETC&MobileApp=AppTest\n",
    "    '''.strip()\n",
    "    r = requests.get(room_url)\n",
    "    items = BeautifulSoup(r.text).select('item')  \n",
    "    mapping = {\n",
    "        'roomtitle': '객실명',\n",
    "        'roomsize1': '객실크기',\n",
    "        'roomcount': '객실수',\n",
    "        'roombasecount': '기준인원',\n",
    "        'roomintro': '객실소개',\n",
    "        'roomoffseasonminfee1': '비수기주중최소',\n",
    "        'roomoffseasonminfee2': '비수기주말최소',\n",
    "        'roompeakseasonminfee1' : '주중성수기',\n",
    "        'roompeakseasonminfee2' : '주말성수기',\n",
    "        'roombathfacility': '목욕시설',\n",
    "        'roombath': '욕조',\n",
    "        'roomaircondition': '에어컨',\n",
    "        'roomtv': 'TV',\n",
    "        'roompc': 'PC',\n",
    "        'roominternet': '인터넷',\n",
    "        'roomrefrigerator': '냉장고',\n",
    "        'roomhairdryer': '드라이기',\n",
    "        'roomtable': '테이블',\n",
    "        'roomtoiletries': '세면도구',\n",
    "        'roomsofa': '소파'\n",
    "    }\n",
    "    \n",
    "    all_room_info = []\n",
    "    for idk, item in enumerate(items):\n",
    "        # 정보 추출\n",
    "        txt = f'\\n**- 객실정보 {idk+1} -**'\n",
    "        for tag, col in mapping.items():\n",
    "            value = item.find(tag).text.strip() if item.find(tag) else ''\n",
    "            if value:  # 정보가 있으면 추가\n",
    "                txt += f'{col}: {value}\\n'\n",
    "        all_room_info.append(txt)\n",
    "\n",
    "    return all_room_info\n"
   ]
  },
  {
   "cell_type": "markdown",
   "metadata": {},
   "source": [
    "### 데이터를 담을 객체생성"
   ]
  },
  {
   "cell_type": "code",
   "execution_count": 35,
   "metadata": {},
   "outputs": [],
   "source": [
    "infoData = []"
   ]
  },
  {
   "cell_type": "markdown",
   "metadata": {},
   "source": [
    "### 위 함수를 사용하여 데이터 추출"
   ]
  },
  {
   "cell_type": "code",
   "execution_count": 50,
   "metadata": {},
   "outputs": [
    {
     "name": "stderr",
     "output_type": "stream",
     "text": [
      "  0%|          | 0/374 [00:00<?, ?it/s]/home/encore/miniconda3/envs/lanchain/lib/python3.10/site-packages/bs4/builder/__init__.py:545: XMLParsedAsHTMLWarning: It looks like you're parsing an XML document using an HTML parser. If this really is an HTML document (maybe it's XHTML?), you can ignore or filter this warning. If it's XML, you should know that using an XML parser will be more reliable. To parse this document as XML, make sure you have the lxml package installed, and pass the keyword argument `features=\"xml\"` into the BeautifulSoup constructor.\n",
      "  warnings.warn(\n",
      "100%|██████████| 374/374 [07:01<00:00,  1.13s/it]\n"
     ]
    }
   ],
   "source": [
    "from tqdm import tqdm\n",
    "for x in tqdm(range(3513, 3887)):\n",
    "    # print(infoDF.loc[x]['title'])\n",
    "    title = infoDF.loc[x]['title']\n",
    "    contentid = infoDF.loc[x]['contentid']\n",
    "    contenttypeid = infoDF.loc[x]['contenttypeid']\n",
    "    addr1, overview, imglilk = selectInfo2(contentid, contenttypeid)\n",
    "    txtinfo = sukso_info(contentid, contenttypeid)\n",
    "    all_room_info = room_info(contentid, contenttypeid)\n",
    "    infoData.append({'title': title, 'addr1': addr1, 'overview' : overview, 'imglilk' : imglilk, 'txtinfo' : txtinfo, 'all_room_info' : all_room_info})"
   ]
  },
  {
   "cell_type": "code",
   "execution_count": 49,
   "metadata": {},
   "outputs": [
    {
     "data": {
      "text/plain": [
       "3514"
      ]
     },
     "execution_count": 49,
     "metadata": {},
     "output_type": "execute_result"
    }
   ],
   "source": [
    "x"
   ]
  },
  {
   "cell_type": "markdown",
   "metadata": {},
   "source": [
    "### 데이터 확인 "
   ]
  },
  {
   "cell_type": "code",
   "execution_count": null,
   "metadata": {},
   "outputs": [
    {
     "data": {
      "text/plain": [
       "{'title': '가경재',\n",
       " 'addr1': '경상북도 안동시 하회남촌길 69-5',\n",
       " 'overview': '가경재는 안동 하회마을 남쪽에 자리한 초가 한옥이다. 객실은 총 5개로, 안채는 중앙 툇마루를, 사랑채는 중앙 마루를 함께 사용할 수 있다. 군불황토방은 제일 인기가 좋은 객실로, 최소 2일 전에 예약해야 아궁이에 불을 지펴준다. 객실 곳곳 창호지 바른 창 너머 시원한 바람을 맞으며 자연의 경치를 감상할 수 있다. 한옥이지만 에어컨을 설치해 이용객의 편의성을 높였고, 여름철에는 에어컨 이용료가 부과된다.',\n",
       " 'imglilk': ['http://tong.visitkorea.or.kr/cms/resource/00/2626200_image2_1.jpg',\n",
       "  'http://tong.visitkorea.or.kr/cms/resource/00/2626200_image3_1.jpg'],\n",
       " 'txtinfo': '-숙소 기본정보-\\n객실유형: 한실\\n객실 수: 2\\n환불 규정: 7일전 100%, 3일전 50%, 2일전~당일 환불 불가\\n체크인: 16:00\\n체크아웃: 10:00\\n조리가능여부: 불가\\n주차가능여부: 가능\\n픽업서비스: 가능\\n전체 수용인원: 7\\n문의 안내: 054-855-8552\\n예약 안내: 054-855-8552, 010-3824-2500\\n예약안내 사이트: http://ggj.kr/bbs/content.php?co_id=info\\n총 규모: 지상 1층\\n',\n",
       " 'all_room_info': ['\\n**- 객실정보 1 -**객실명: 사랑채 아랫방\\n객실크기: 0\\n객실수: 0\\n기준인원: 2\\n비수기주중최소: 80000\\n비수기주말최소: 80000\\n주중성수기: 80000\\n주말성수기: 80000\\n에어컨: Y\\nTV: Y\\n인터넷: Y\\n냉장고: Y\\n드라이기: Y\\n테이블: Y\\n세면도구: Y\\n',\n",
       "  '\\n**- 객실정보 2 -**객실명: 군불 황토 아랫방\\n객실크기: 0\\n객실수: 0\\n기준인원: 3\\n비수기주중최소: 100000\\n비수기주말최소: 100000\\n주중성수기: 100000\\n주말성수기: 100000\\n에어컨: Y\\nTV: Y\\n인터넷: Y\\n냉장고: Y\\n드라이기: Y\\n테이블: Y\\n세면도구: Y\\n']}"
      ]
     },
     "metadata": {},
     "output_type": "display_data"
    }
   ],
   "source": [
    "infoData[0]"
   ]
  },
  {
   "cell_type": "code",
   "execution_count": null,
   "metadata": {},
   "outputs": [
    {
     "data": {
      "text/plain": [
       "3887"
      ]
     },
     "metadata": {},
     "output_type": "display_data"
    }
   ],
   "source": [
    "len(infoData)\n"
   ]
  },
  {
   "cell_type": "markdown",
   "metadata": {},
   "source": [
    "## DF 생성 및 전처리"
   ]
  },
  {
   "cell_type": "code",
   "execution_count": null,
   "metadata": {},
   "outputs": [],
   "source": [
    "suk_data = []\n",
    "for x in infoData:\n",
    "    name = x['title']\n",
    "    address = x['addr1']\n",
    "    overview = x['overview']\n",
    "    imglink = x['imglilk']\n",
    "    generalInfo = x['txtinfo']\n",
    "    roomInfo = x['all_room_info']\n",
    "    \n",
    "    \n",
    "    suk_data.append({'name': name, 'address': address, 'overview' : overview, 'imglink' : imglink, 'generalInfo' : generalInfo, 'roomInfo' : roomInfo})\n",
    "\n",
    "suksoDF = pd.DataFrame(suk_data)"
   ]
  },
  {
   "cell_type": "markdown",
   "metadata": {},
   "source": [
    "## 태그 생성\n",
    "- 가중치 부여및 메타데이터 생성"
   ]
  },
  {
   "cell_type": "code",
   "execution_count": null,
   "metadata": {},
   "outputs": [],
   "source": [
    "# 태그 추출 함수 (최적화)\n",
    "def extract_tag(row):\n",
    "    # 주소 추출\n",
    "    road_address = row['address']\n",
    "    \n",
    "    # 주소가 유효하고 2개 이상의 단어로 구성된 경우 사용\n",
    "    if pd.notna(road_address) and len(road_address.split()) >= 2:\n",
    "        return ' '.join(road_address.split()[:2])\n",
    "\n",
    "    \n",
    "    # 둘 다 유효하지 않을 경우\n",
    "    return '없음'\n",
    "\n",
    "suksoDF['tag'] = suksoDF.apply(lambda row: extract_tag(row), axis=1)"
   ]
  },
  {
   "cell_type": "code",
   "execution_count": null,
   "metadata": {},
   "outputs": [
    {
     "data": {
      "text/plain": [
       "array(['경상북도 안동시', '서울특별시 송파구', '전북특별자치도 전주시', '경기도 파주시', '제주특별자치도 서귀포시',\n",
       "       '강원특별자치도 인제군', '강원특별자치도 정선군', '경기도 구리시', '경기도 평택시', '경상남도 하동군',\n",
       "       '경기도 양평군', '경상북도 성주군', '충청북도 청주시', '강원특별자치도 평창군', '경상남도 남해군',\n",
       "       '경기도 가평군', '경상남도 고성군', '강원특별자치도 영월군', '강원특별자치도 홍천군', '경상남도 통영시',\n",
       "       '서울특별시 강남구', '서울특별시 서초구', '강원특별자치도 강릉시', '경상북도 문경시', '전북특별자치도 순창군',\n",
       "       '강원특별자치도 춘천시', '전라남도 보성군', '인천광역시 강화군', '전라남도 해남군', '경상남도 창원시',\n",
       "       '강원특별자치도 화천군', '경상북도 포항시', '서울특별시 영등포구', '강원특별자치도 원주시', '충청남도 태안군',\n",
       "       '충청남도 보령시', '경상남도 거제시', '경상남도 거창군', '서울특별시 마포구', '광주광역시 동구',\n",
       "       '대구광역시 중구', '서울특별시 용산구', '전북특별자치도 군산시', '전북특별자치도 부안군', '충청남도 홍성군',\n",
       "       '울산광역시 동구', '인천광역시 연수구', '경상북도 경주시', '경기도 포천시', '충청남도 공주시',\n",
       "       '경기도 용인시', '강원특별자치도 철원군', '경기도 부천시', '전라남도 장흥군', '경기도 고양시',\n",
       "       '서울특별시 종로구', '전라남도 고흥군', '전북특별자치도 고창군', '인천광역시 부평구', '전라남도 담양군',\n",
       "       '강원특별자치도 삼척시', '전라남도 곡성군', '전라남도 구례군', '인천광역시 남동구', '경기도 광명시',\n",
       "       '경상남도 진주시', '서울특별시 강서구', '인천광역시 중구', '전라남도 여수시', '강원특별자치도 고성군',\n",
       "       '전북특별자치도 완주군', '제주특별자치도 제주시', '강원특별자치도 속초시', '부산광역시 동구',\n",
       "       '광주광역시 광산구', '전라남도 영암군', '경상북도 구미시', '대구광역시 군위군', '대전광역시 서구',\n",
       "       '경상북도 봉화군', '전북특별자치도 무주군', '경상북도 영천시', '경기도 성남시', '전라남도 완도군',\n",
       "       '서울특별시 광진구', '부산광역시 해운대구', '충청남도 예산군', '경기도 남양주시', '부산광역시 서구',\n",
       "       '부산광역시 수영구', '서울특별시 동대문구', '인천광역시 서구', '경기도 양주시', '경기도 화성시',\n",
       "       '전북특별자치도 익산시', '충청북도 제천시', '전라남도 함평군', '경상북도 예천군', '경상북도 영주시',\n",
       "       '경상북도 김천시', '서울특별시 서대문구', '경기도 김포시', '경상남도 김해시', '대전광역시 유성구',\n",
       "       '강원특별자치도 횡성군', '전라남도 순천시', '경기도 수원시', '전북특별자치도 장수군', '충청북도 보은군',\n",
       "       '서울특별시 중구', '강원특별자치도 양양군', '전라남도 목포시', '경상북도 울릉군', '전북특별자치도 남원시',\n",
       "       '전북특별자치도 정읍시', '강원특별자치도 동해시', '전라남도 강진군', '부산광역시 기장군', '인천광역시 옹진군',\n",
       "       '광주광역시 서구', '전라남도 무안군', '부산광역시 동래구', '충청남도 논산시', '광주광역시 북구',\n",
       "       '울산광역시 울주군', '서울특별시 은평구', '경상남도 양산시', '충청북도 단양군', '경상남도 합천군',\n",
       "       '충청남도 당진시', '대구광역시 동구', '대구광역시 수성구', '경상남도 사천시', '경기도 안산시',\n",
       "       '전라남도 영광군', '경상북도 청도군', '충청북도 충주시', '대구광역시 북구', '경상북도 영덕군',\n",
       "       '충청남도 아산시', '경상북도 울진군', '경상북도 고령군', '전북특별자치도 진안군', '전라남도 나주시',\n",
       "       '서울특별시 성동구', '충청남도 서산시', '강원특별자치도 태백시', '경상남도 산청군', '서울특별시 성북구',\n",
       "       '서울특별시 관악구', '전라남도 신안군', '부산광역시 영도구', '경기도 의정부시', '강원도 화천군',\n",
       "       '경기도 오산시', '경기도 안성시', '인천광역시 미추홀구', '충청남도 부여군', '서울특별시 구로구',\n",
       "       '울산광역시 남구', '부산광역시 부산진구', '부산광역시 사상구', '경기도 시흥시', '서울특별시 강북구',\n",
       "       '전북특별자치도 김제시', '충청남도 천안시', '세종특별자치시 만남로6길', '충청남도 서천군', '경상남도 밀양시',\n",
       "       '전라남도 화순군', '인천광역시 계양구', '서울특별시 강동구', '부산광역시 사하구', '경상남도 함양군',\n",
       "       '전라남도 장성군', '전라남도 광양시', '강원특별자치도 양구군', '세종특별자치시 도움1로', '경상북도 청송군',\n",
       "       '경상북도 영양군', '부산광역시 북구', '경상남도 창녕군', '부산광역시 연제구', '부산광역시 중구',\n",
       "       '부산광역시 남구', '대구광역시 서구', '대구광역시 달서구', '서울특별시 동작구', '대구광역시 남구',\n",
       "       '경기도 이천시', '경기도 안양시', '경상북도 경산시', '충청남도 금산군', '충청북도 음성군',\n",
       "       '전라남도 진도군', '전북특별자치도 임실군', '경기도 동두천시', '부산광역시 강서구', '경기도 여주시',\n",
       "       '광주광역시 남구', '경기도 하남시', '경기도 연천군', '울산광역시 중구', '부산광역시 금정구',\n",
       "       '충청북도 옥천군', '충청북도 괴산군', '경상북도 의성군', '서울특별시 금천구', '충청북도 영동군',\n",
       "       '경기도 광주시', '울산광역시 북구', '경상남도 의령군', '충청북도 증평군', '대구광역시 달성군',\n",
       "       '세종특별자치시 장군면', '대전광역시 중구', '경상북도 상주시', '경상북도 칠곡군', '부산광역시 해운대구광역시',\n",
       "       '대전광역시 대덕구', '대전광역시유성구 도룡동', '서울특별시 도봉구', '경기도 의왕시', '충청남도 청양군',\n",
       "       '강원도 강릉시'], dtype=object)"
      ]
     },
     "metadata": {},
     "output_type": "display_data"
    }
   ],
   "source": [
    "suksoDF['tag'].unique()"
   ]
  },
  {
   "cell_type": "markdown",
   "metadata": {},
   "source": [
    "### 영어주소 -> 한글로 변경처리 "
   ]
  },
  {
   "cell_type": "code",
   "execution_count": null,
   "metadata": {},
   "outputs": [],
   "source": [
    "suksoDF.loc[suksoDF['address'].str.contains('18, Hoegi-ro', na=False), 'address'] = '서울특별시 동대문구 회기로 29길 18'\n",
    "suksoDF.loc[suksoDF['tag'].str.contains('18, Hoegi-ro', na=False), 'tag'] = '서울특별시 동대문구'"
   ]
  },
  {
   "cell_type": "markdown",
   "metadata": {},
   "source": [
    "### 태그 강화를 위해 tag내 지역명 추가"
   ]
  },
  {
   "cell_type": "code",
   "execution_count": null,
   "metadata": {},
   "outputs": [],
   "source": [
    "suksoDF.loc[suksoDF['tag'].str.contains('강원도', na=False), 'tag'] = suksoDF['tag'] + ' 강원특별자치도'\n",
    "suksoDF.loc[suksoDF['tag'].str.contains('강원특별자치도', na=False), 'tag'] = suksoDF['tag'] + ' 강원도'\n",
    "suksoDF.loc[suksoDF['tag'].str.contains('경기도', na=False), 'tag'] = suksoDF['tag'] + ' 경기'\n",
    "suksoDF.loc[suksoDF['tag'].str.contains('경상남도', na=False), 'tag'] = suksoDF['tag'] + ' 경상도'\n",
    "suksoDF.loc[suksoDF['tag'].str.contains('경상북도', na=False), 'tag'] = suksoDF['tag'] + ' 경상도'\n",
    "suksoDF.loc[suksoDF['tag'].str.contains('광주광역시', na=False), 'tag'] = suksoDF['tag'] + ' 광주'\n",
    "suksoDF.loc[suksoDF['tag'].str.contains('대구광역시', na=False), 'tag'] = suksoDF['tag'] + ' 대구'\n",
    "suksoDF.loc[suksoDF['tag'].str.contains('대전광역시', na=False), 'tag'] = suksoDF['tag'] + ' 대전'\n",
    "suksoDF.loc[suksoDF['tag'].str.contains('부산광역시', na=False), 'tag'] = suksoDF['tag'] + ' 부산'\n",
    "suksoDF.loc[suksoDF['tag'].str.contains('서울특별시', na=False), 'tag'] = suksoDF['tag'] + ' 서울'\n",
    "suksoDF.loc[suksoDF['tag'].str.contains('세종특별자치시', na=False), 'tag'] = suksoDF['tag'] + ' 세종'\n",
    "suksoDF.loc[suksoDF['tag'].str.contains('울산광역시', na=False), 'tag'] = suksoDF['tag'] + ' 울산'\n",
    "suksoDF.loc[suksoDF['tag'].str.contains('인천광역시', na=False), 'tag'] = suksoDF['tag'] + ' 인천'\n",
    "suksoDF.loc[suksoDF['tag'].str.contains('전라남도', na=False), 'tag'] = suksoDF['tag'] + ' 전라도'\n",
    "suksoDF.loc[suksoDF['tag'].str.contains('전북특별자치도', na=False), 'tag'] = suksoDF['tag'] + ' 전라북도 전라도'\n",
    "suksoDF.loc[suksoDF['tag'].str.contains('제주특별자치도', na=False), 'tag'] = suksoDF['tag'] + ' 제주도 제주'\n",
    "suksoDF.loc[suksoDF['tag'].str.contains('충청남도', na=False), 'tag'] = suksoDF['tag'] + ' 충청도'\n",
    "suksoDF.loc[suksoDF['tag'].str.contains('충청북도', na=False), 'tag'] = suksoDF['tag'] + ' 충청도'"
   ]
  },
  {
   "cell_type": "code",
   "execution_count": null,
   "metadata": {},
   "outputs": [
    {
     "data": {
      "text/plain": [
       "0               경상북도 안동시 경상도\n",
       "1               서울특별시 송파구 서울\n",
       "2       전북특별자치도 전주시 전라북도 전라도\n",
       "3                 경기도 파주시 경기\n",
       "4               경상북도 안동시 경상도\n",
       "                ...         \n",
       "3882             인천광역시 중구 인천\n",
       "3883    전북특별자치도 전주시 전라북도 전라도\n",
       "3884            서울특별시 마포구 서울\n",
       "3885         강원특별자치도 춘천시 강원도\n",
       "3886            경상북도 구미시 경상도\n",
       "Name: tag, Length: 3887, dtype: object"
      ]
     },
     "metadata": {},
     "output_type": "display_data"
    }
   ],
   "source": [
    "suksoDF['tag']"
   ]
  },
  {
   "cell_type": "markdown",
   "metadata": {},
   "source": [
    "### 태그강화를 위해 소개문구내 특정 문구 추출/입력력"
   ]
  },
  {
   "cell_type": "markdown",
   "metadata": {},
   "source": [
    "- 소개문에 '한옥' 단어가 있는경우 태그에 추가"
   ]
  },
  {
   "cell_type": "code",
   "execution_count": null,
   "metadata": {},
   "outputs": [],
   "source": [
    "suksoDF.loc[suksoDF['overview'].str.contains('한옥', na=False), 'tag'] = suksoDF['tag'] + ' 한옥'"
   ]
  },
  {
   "cell_type": "markdown",
   "metadata": {},
   "source": [
    "- 기타 포인트 문구 소개문에서 추출하여 태그 추가하면 좋을것 같음...(시간부족이슈슈)"
   ]
  },
  {
   "cell_type": "code",
   "execution_count": null,
   "metadata": {},
   "outputs": [],
   "source": []
  },
  {
   "cell_type": "markdown",
   "metadata": {},
   "source": [
    "## 데이터 저장"
   ]
  },
  {
   "cell_type": "code",
   "execution_count": null,
   "metadata": {},
   "outputs": [],
   "source": [
    "suksoDF.to_csv('./data/suksoDF.csv', index=False, encoding='utf-8')"
   ]
  },
  {
   "cell_type": "markdown",
   "metadata": {},
   "source": [
    "## 데이터 불러오기"
   ]
  },
  {
   "cell_type": "code",
   "execution_count": 51,
   "metadata": {},
   "outputs": [],
   "source": [
    "suksoDF = pd.read_csv('./data/suksoDF.csv',encoding='utf-8')"
   ]
  },
  {
   "cell_type": "markdown",
   "metadata": {},
   "source": [
    "# 임베딩 테스트"
   ]
  },
  {
   "cell_type": "code",
   "execution_count": 53,
   "metadata": {},
   "outputs": [],
   "source": [
    "from langchain.embeddings import OpenAIEmbeddings\n",
    "from langchain.vectorstores import Chroma\n",
    "\n",
    "# OpenAI 임베딩 설정\n",
    "embeddings = OpenAIEmbeddings(model=\"text-embedding-ada-002\")"
   ]
  },
  {
   "cell_type": "code",
   "execution_count": 54,
   "metadata": {},
   "outputs": [],
   "source": [
    "from langchain.schema import Document\n",
    "# 숙소 기본 정보 DB\n",
    "db_info = Chroma(\n",
    "    persist_directory='./sukso_info',\n",
    "    collection_name='sukso_info',\n",
    "    embedding_function=embeddings\n",
    ")\n",
    "# 기본정보 doc\n",
    "doc_info = [\n",
    "    Document(page_content=f\"숙소명: {row['name']} \\n 주소: {row['address']}  \\n 소개문: {row['overview']}  \\n 이미지링크: {row['imglink']} \", metadata={\"tag\": row['tag'] , \"idx\" : idx})\n",
    "    for idx, row in suksoDF.iterrows()\n",
    "]\n",
    "\n",
    "# 객실 정보용 DB\n",
    "db_room = Chroma(\n",
    "    persist_directory='./room_info',\n",
    "    collection_name='room_info',\n",
    "    embedding_function=embeddings\n",
    ")\n",
    "# 객실정보 doc\n",
    "room_info = [\n",
    "    Document(page_content=f\"숙소명: {row['name']} \\n 숙소정보: {row['generalInfo']}  \\n 객실정보: {row['roomInfo']} \", metadata={\"tag\": row['tag'] , \"idx\" : idx})\n",
    "    for idx, row in suksoDF.iterrows()\n",
    "]\n"
   ]
  },
  {
   "cell_type": "code",
   "execution_count": 55,
   "metadata": {},
   "outputs": [
    {
     "name": "stderr",
     "output_type": "stream",
     "text": [
      " 65%|██████▌   | 51/78 [03:33<01:42,  3.81s/it]Retrying langchain.embeddings.openai.embed_with_retry.<locals>._embed_with_retry in 4.0 seconds as it raised APIError: HTTP code 520 from API (<!DOCTYPE html>\n",
      "<!--[if lt IE 7]> <html class=\"no-js ie6 oldie\" lang=\"en-US\"> <![endif]-->\n",
      "<!--[if IE 7]>    <html class=\"no-js ie7 oldie\" lang=\"en-US\"> <![endif]-->\n",
      "<!--[if IE 8]>    <html class=\"no-js ie8 oldie\" lang=\"en-US\"> <![endif]-->\n",
      "<!--[if gt IE 8]><!--> <html class=\"no-js\" lang=\"en-US\"> <!--<![endif]-->\n",
      "<head>\n",
      "\n",
      "\n",
      "<title>api.openai.com | 520: Web server is returning an unknown error</title>\n",
      "<meta charset=\"UTF-8\" />\n",
      "<meta http-equiv=\"Content-Type\" content=\"text/html; charset=UTF-8\" />\n",
      "<meta http-equiv=\"X-UA-Compatible\" content=\"IE=Edge\" />\n",
      "<meta name=\"robots\" content=\"noindex, nofollow\" />\n",
      "<meta name=\"viewport\" content=\"width=device-width,initial-scale=1\" />\n",
      "<link rel=\"stylesheet\" id=\"cf_styles-css\" href=\"/cdn-cgi/styles/main.css\" />\n",
      "\n",
      "\n",
      "</head>\n",
      "<body>\n",
      "<div id=\"cf-wrapper\">\n",
      "    <div id=\"cf-error-details\" class=\"p-0\">\n",
      "        <header class=\"mx-auto pt-10 lg:pt-6 lg:px-8 w-240 lg:w-full mb-8\">\n",
      "            <h1 class=\"inline-block sm:block sm:mb-2 font-light text-60 lg:text-4xl text-black-dark leading-tight mr-2\">\n",
      "              <span class=\"inline-block\">Web server is returning an unknown error</span>\n",
      "              <span class=\"code-label\">Error code 520</span>\n",
      "            </h1>\n",
      "            <div>\n",
      "               Visit <a href=\"https://www.cloudflare.com/5xx-error-landing?utm_source=errorcode_520&utm_campaign=api.openai.com\" target=\"_blank\" rel=\"noopener noreferrer\">cloudflare.com</a> for more information.\n",
      "            </div>\n",
      "            <div class=\"mt-3\">2025-02-04 02:45:45 UTC</div>\n",
      "        </header>\n",
      "        <div class=\"my-8 bg-gradient-gray\">\n",
      "            <div class=\"w-240 lg:w-full mx-auto\">\n",
      "                <div class=\"clearfix md:px-8\">\n",
      "                  \n",
      "<div id=\"cf-browser-status\" class=\" relative w-1/3 md:w-full py-15 md:p-0 md:py-8 md:text-left md:border-solid md:border-0 md:border-b md:border-gray-400 overflow-hidden float-left md:float-none text-center\">\n",
      "  <div class=\"relative mb-10 md:m-0\">\n",
      "    \n",
      "    <span class=\"cf-icon-browser block md:hidden h-20 bg-center bg-no-repeat\"></span>\n",
      "    <span class=\"cf-icon-ok w-12 h-12 absolute left-1/2 md:left-auto md:right-0 md:top-0 -ml-6 -bottom-4\"></span>\n",
      "    \n",
      "  </div>\n",
      "  <span class=\"md:block w-full truncate\">You</span>\n",
      "  <h3 class=\"md:inline-block mt-3 md:mt-0 text-2xl text-gray-600 font-light leading-1.3\">\n",
      "    \n",
      "    Browser\n",
      "    \n",
      "  </h3>\n",
      "  <span class=\"leading-1.3 text-2xl text-green-success\">Working</span>\n",
      "</div>\n",
      "\n",
      "<div id=\"cf-cloudflare-status\" class=\" relative w-1/3 md:w-full py-15 md:p-0 md:py-8 md:text-left md:border-solid md:border-0 md:border-b md:border-gray-400 overflow-hidden float-left md:float-none text-center\">\n",
      "  <div class=\"relative mb-10 md:m-0\">\n",
      "    <a href=\"https://www.cloudflare.com/5xx-error-landing?utm_source=errorcode_520&utm_campaign=api.openai.com\" target=\"_blank\" rel=\"noopener noreferrer\">\n",
      "    <span class=\"cf-icon-cloud block md:hidden h-20 bg-center bg-no-repeat\"></span>\n",
      "    <span class=\"cf-icon-ok w-12 h-12 absolute left-1/2 md:left-auto md:right-0 md:top-0 -ml-6 -bottom-4\"></span>\n",
      "    </a>\n",
      "  </div>\n",
      "  <span class=\"md:block w-full truncate\">Seoul</span>\n",
      "  <h3 class=\"md:inline-block mt-3 md:mt-0 text-2xl text-gray-600 font-light leading-1.3\">\n",
      "    <a href=\"https://www.cloudflare.com/5xx-error-landing?utm_source=errorcode_520&utm_campaign=api.openai.com\" target=\"_blank\" rel=\"noopener noreferrer\">\n",
      "    Cloudflare\n",
      "    </a>\n",
      "  </h3>\n",
      "  <span class=\"leading-1.3 text-2xl text-green-success\">Working</span>\n",
      "</div>\n",
      "\n",
      "<div id=\"cf-host-status\" class=\"cf-error-source relative w-1/3 md:w-full py-15 md:p-0 md:py-8 md:text-left md:border-solid md:border-0 md:border-b md:border-gray-400 overflow-hidden float-left md:float-none text-center\">\n",
      "  <div class=\"relative mb-10 md:m-0\">\n",
      "    \n",
      "    <span class=\"cf-icon-server block md:hidden h-20 bg-center bg-no-repeat\"></span>\n",
      "    <span class=\"cf-icon-error w-12 h-12 absolute left-1/2 md:left-auto md:right-0 md:top-0 -ml-6 -bottom-4\"></span>\n",
      "    \n",
      "  </div>\n",
      "  <span class=\"md:block w-full truncate\">api.openai.com</span>\n",
      "  <h3 class=\"md:inline-block mt-3 md:mt-0 text-2xl text-gray-600 font-light leading-1.3\">\n",
      "    \n",
      "    Host\n",
      "    \n",
      "  </h3>\n",
      "  <span class=\"leading-1.3 text-2xl text-red-error\">Error</span>\n",
      "</div>\n",
      "\n",
      "                </div>\n",
      "            </div>\n",
      "        </div>\n",
      "\n",
      "        <div class=\"w-240 lg:w-full mx-auto mb-8 lg:px-8\">\n",
      "            <div class=\"clearfix\">\n",
      "                <div class=\"w-1/2 md:w-full float-left pr-6 md:pb-10 md:pr-0 leading-relaxed\">\n",
      "                    <h2 class=\"text-3xl font-normal leading-1.3 mb-4\">What happened?</h2>\n",
      "                    <p>There is an unknown connection issue between Cloudflare and the origin web server. As a result, the web page can not be displayed.</p>\n",
      "                </div>\n",
      "                <div class=\"w-1/2 md:w-full float-left leading-relaxed\">\n",
      "                    <h2 class=\"text-3xl font-normal leading-1.3 mb-4\">What can I do?</h2>\n",
      "                          <h3 class=\"text-15 font-semibold mb-2\">If you are a visitor of this website:</h3>\n",
      "      <p class=\"mb-6\">Please try again in a few minutes.</p>\n",
      "\n",
      "      <h3 class=\"text-15 font-semibold mb-2\">If you are the owner of this website:</h3>\n",
      "      <p><span>There is an issue between Cloudflare's cache and your origin web server. Cloudflare monitors for these errors and automatically investigates the cause. To help support the investigation, you can pull the corresponding error log from your web server and submit it our support team.  Please include the Ray ID (which is at the bottom of this error page).</span> <a rel=\"noopener noreferrer\" href=\"https://support.cloudflare.com/hc/en-us/articles/200171936-Error-520\">Additional troubleshooting resources</a>.</p>\n",
      "                </div>\n",
      "            </div>\n",
      "        </div>\n",
      "\n",
      "        <div class=\"cf-error-footer cf-wrapper w-240 lg:w-full py-10 sm:py-4 sm:px-8 mx-auto text-center sm:text-left border-solid border-0 border-t border-gray-300\">\n",
      "  <p class=\"text-13\">\n",
      "    <span class=\"cf-footer-item sm:block sm:mb-1\">Cloudflare Ray ID: <strong class=\"font-semibold\">90c7520d7852aa3c</strong></span>\n",
      "    <span class=\"cf-footer-separator sm:hidden\">&bull;</span>\n",
      "    <span id=\"cf-footer-item-ip\" class=\"cf-footer-item hidden sm:block sm:mb-1\">\n",
      "      Your IP:\n",
      "      <button type=\"button\" id=\"cf-footer-ip-reveal\" class=\"cf-footer-ip-reveal-btn\">Click to reveal</button>\n",
      "      <span class=\"hidden\" id=\"cf-footer-ip\">222.112.208.67</span>\n",
      "      <span class=\"cf-footer-separator sm:hidden\">&bull;</span>\n",
      "    </span>\n",
      "    <span class=\"cf-footer-item sm:block sm:mb-1\"><span>Performance &amp; security by</span> <a rel=\"noopener noreferrer\" href=\"https://www.cloudflare.com/5xx-error-landing?utm_source=errorcode_520&utm_campaign=api.openai.com\" id=\"brand_link\" target=\"_blank\">Cloudflare</a></span>\n",
      "    \n",
      "  </p>\n",
      "  <script>(function(){function d(){var b=a.getElementById(\"cf-footer-item-ip\"),c=a.getElementById(\"cf-footer-ip-reveal\");b&&\"classList\"in b&&(b.classList.remove(\"hidden\"),c.addEventListener(\"click\",function(){c.classList.add(\"hidden\");a.getElementById(\"cf-footer-ip\").classList.remove(\"hidden\")}))}var a=document;document.addEventListener&&a.addEventListener(\"DOMContentLoaded\",d)})();</script>\n",
      "</div><!-- /.error-footer -->\n",
      "\n",
      "\n",
      "    </div>\n",
      "</div>\n",
      "</body>\n",
      "</html>\n",
      ").\n",
      "100%|██████████| 78/78 [06:37<00:00,  5.10s/it]\n",
      "100%|██████████| 78/78 [05:32<00:00,  4.27s/it]\n"
     ]
    }
   ],
   "source": [
    "import time\n",
    "# 생성도큐먼트 db추가 - openai 토큰제한이슈로 배치처리 적용 \n",
    "batch_size = 50\n",
    "\n",
    "# 기본정보\n",
    "for i in tqdm(range(0, len(doc_info), batch_size)):\n",
    "    batch = doc_info[i:i+batch_size]\n",
    "    _ = db_info.add_documents(batch) # 출력방지지\n",
    "    time.sleep(2)\n",
    "\n",
    "# 객실정보보\n",
    "for i in tqdm(range(0, len(room_info), batch_size)):\n",
    "    batch = room_info[i:i+batch_size]\n",
    "    _ = db_room.add_documents(batch) # 출력방지지\n",
    "    time.sleep(2)"
   ]
  },
  {
   "cell_type": "code",
   "execution_count": null,
   "metadata": {},
   "outputs": [],
   "source": []
  },
  {
   "cell_type": "markdown",
   "metadata": {},
   "source": [
    "## 프롬프트 테스트"
   ]
  },
  {
   "cell_type": "code",
   "execution_count": 56,
   "metadata": {},
   "outputs": [],
   "source": [
    "from langchain.chat_models import ChatOpenAI\n",
    "from langchain.schema import HumanMessage, SystemMessage, AIMessage\n",
    "chat = ChatOpenAI(\n",
    "    model = 'gpt-3.5-turbo'\n",
    ")"
   ]
  },
  {
   "cell_type": "markdown",
   "metadata": {},
   "source": [
    "### 정확한 프롬프트 작성을 위한 llm도움 받기"
   ]
  },
  {
   "cell_type": "code",
   "execution_count": 62,
   "metadata": {},
   "outputs": [],
   "source": [
    "# 사용자 요청 분석 함수\n",
    "def check_query(user_query):\n",
    "    prompt = f\"\"\"\n",
    "    다음 문장을 기반으로 두 가지를 확인해 주세요:\n",
    "    1. 숙소/호텔/민박/호캉스 관련 정보 요청 여부\n",
    "    2. 구체적인 지역 정보 포함 여부\n",
    "\n",
    "    **문장: '{user_query}'**\n",
    "\n",
    "    조건에 따라 아래와 같이 답변하세요:\n",
    "    - 숙소 정보와 지역 정보가 모두 포함되어 있으면: '0'\n",
    "    - 둘 중 하나라도 없다면: '없음'\n",
    "    \"\"\"\n",
    "    response = chat.predict(prompt)\n",
    "    return response.strip()  "
   ]
  },
  {
   "cell_type": "code",
   "execution_count": 60,
   "metadata": {},
   "outputs": [],
   "source": [
    "# 봇에게 보내는 요청 함수\n",
    "\n",
    "def question(user_query):\n",
    "    # 입력받은 문장의 내용을 llm에게 검토요청 \n",
    "    query_check = check_query(user_query)\n",
    "    print(\"분석 결과:\", query_check)\n",
    "    \n",
    "    #  ChatGPT에 전달할 메시지 구성\n",
    "    if '없음' in query_check: \n",
    "        messages = [\n",
    "            SystemMessage(content=\"\"\"\n",
    "            당신은 숙소/호텔/민박 정보를 제공하는 도우미 챗봇입니다.\n",
    "            사용자가 원하는 숙소의 종류와 위치를 명확히 말하도록 유도하세요.\n",
    "            \"\"\"),\n",
    "            HumanMessage(content=f\"사용자 요청: {user_query}\")\n",
    "        ]\n",
    "    else :\n",
    "        try:\n",
    "            results = db_info.similarity_search(user_query, k=5)\n",
    "            if not results:\n",
    "                # 검색 결과가 없을 경우\n",
    "                return \"해당 요청에 맞는 숙소 정보를 찾을 수 없습니다. 다른 키워드로 다시 시도해 주세요.\"\n",
    "\n",
    "            # 검색된 결과 통합\n",
    "            context = \"\\n\".join([result.page_content for result in results])\n",
    "            print(\"검색 결과:\", context)\n",
    "            \n",
    "            messages = [\n",
    "                SystemMessage(content=\"\"\"\n",
    "                당신은 숙소/호텔/민박 정보를 제공하는 도우미 챗봇입니다.\n",
    "                사용자 요청에 맞춰 검색된 정보를 활용하여 정확한 답변을 제공하세요.\n",
    "                \"\"\"),\n",
    "                HumanMessage(content=f\"사용자 질문: {user_query}\\n\\n🔍 참고 정보:\\n{context}\\n\\n위 정보를 기반으로 답변해 주세요.\")\n",
    "            ]\n",
    "        except Exception as e:\n",
    "            return f\"검색 중 오류가 발생했습니다: {e}\"\n",
    "        \n",
    "    #  ChatGPT로부터 답변 받기\n",
    "    response = chat(messages)\n",
    "\n",
    "    return response"
   ]
  },
  {
   "cell_type": "code",
   "execution_count": 63,
   "metadata": {},
   "outputs": [
    {
     "name": "stdout",
     "output_type": "stream",
     "text": [
      "분석 결과: 1. 숙소/호텔/민박/호캉스 관련 정보 요청 여부: O\n",
      "2. 구체적인 지역 정보 포함 여부: O\n",
      "\n",
      "답변: 0\n",
      "검색 결과: 숙소명: 캄스테이 서울 \n",
      " 주소: 서울특별시 송파구 석촌호수로12길 3-19 (잠실동)  \n",
      " 소개문: 캄스테이 서울은 서울 잠실 새내역 근처에 위치한 따스한 채광이 가득한 감성숙소로, 지하철 2, 8, 9호선 모두 이용이 가능해 교통이 편리하다. 복층구조로 1층에는 주방과 거실이 있고, 2층엔 침실과 다락방이 있다. 거실 8인용 넉넉한 테이블에 앉아 캡슐커피를 마시면 그 맛이 일품이다. 석촌호수, 롯데월드, 롯데월드타워, 잠실한강공원 모두 도보로 이용 가능하고, 잠실새내먹자골목과 새마을시장도 인근에 있어 외식 이용도 편리하다.  \n",
      " 이미지링크: [] \n",
      "숙소명: 핸드픽트호텔 서울 \n",
      " 주소: 서울특별시 동작구 상도로 120 (상도동)  \n",
      " 소개문: 핸드픽트호텔은 서울지하철 7호선 신대방삼거리역과 장승배기역 사이에 위치한 3성급 호텔이다.\n",
      "이 호텔은 외관을 벽돌로 마감하고 여러 미술품을 전시하여 고급스러운 느낌을 더하고 있다. 객실은 스튜디오 베이직(트윈, 더블, 킹), 스튜디오 프리미어(트윈, 패밀리), 주니어 스위트(트윈, 킹), 이그젝큐티브 스위트(킹 A~C)로 총 10종류가 있어 인원과 취향에 맞춰 선택할 수 있다. 그리고 한식 레스토랑, 카페 및 캐주얼 다이닝, 플라워샵, 편집샵 등 다양한 편의시설이 있다. 조식은 볼룸에서 유료로 제공된다. 또한 결혼식, 돌잔치, 세미나 등을 개최할 수 있는 연회장도 있다. 매년 가을 서울불꽃축제 개최 시에는 일부 객실에서 프라이빗하게 불꽃축제를 감상할 수 있다.\n",
      "주변에는 보라매공원, 대방공원 등이 있어 투숙 시 함께 둘러볼 수 있다.  \n",
      " 이미지링크: [] \n",
      "숙소명: 세화호스텔 \n",
      " 주소: 서울특별시 종로구 삼일대로32가길 50  \n",
      " 소개문: 서울 종로 중심부에 자리한 세화호스텔은 1~3인 여행객을 위한 온돌룸, 침실룸 등 다양한 객실을 운영한다. 공용 PC, 안마의자, 전자레인지, 세탁기, 건조기를 무료로 이용할 수 있고, 간단한 무료 조식, 국제전화 무료 서비스, 외국어 안내 서비스를 제공한다. 지하철 15분 거리에 서울역이 있고 공항리무진버스가 종로3가역까지 운행한다. 도보로 창덕궁, 종묘, 쇼핑거리 등을 즐길 수 있다.  \n",
      " 이미지링크: ['http://tong.visitkorea.or.kr/cms/resource/52/2650652_image2_1.JPG', 'http://tong.visitkorea.or.kr/cms/resource/52/2650652_image2_1.JPG'] \n",
      "숙소명: 힐하우스 호텔 [한국관광 품질인증/Korea Quality] \n",
      " 주소: 서울특별시 중구 소공로3길 42 언덕의집  \n",
      " 소개문: 힐하우스 호텔은 서울 남산공원 아래에 위치한 비즈니스 호텔로, 깔끔하고 청결한 객실 컨디션으로 호평을 받고 있다. 모든 객실에서 무료 인터넷이 가능하고, 1층에 공용 전자레인지가 있다. 고객 편의를 위해 무료 짐 보관 서비스를 제공한다. 지하철 회현역, 서울역, 명동역이 주변에 있어 교통이 편리하고, 남산 서울타워, 남대문 시장 등 서울 도심 여행을 즐기기에 좋다.  \n",
      " 이미지링크: ['http://tong.visitkorea.or.kr/cms/resource/84/3010284_image2_1.jpg', 'http://tong.visitkorea.or.kr/cms/resource/84/3010284_image3_1.jpg'] \n",
      "숙소명: 아만티호텔서울 \n",
      " 주소: 서울특별시 마포구 월드컵북로 31 아만티호텔 서울  \n",
      " 소개문: 홍대입구역 9번 출구에서 도보 500m 거리에 있는 고품격 4성급 호텔이다. 번화가에서 조금 떨어진 대로 안쪽에 있어서 조용하고 쾌적한 분위기를 즐길 수 있다. 총 150개의 객실이 있으며 스탠더드룸, 디럭스룸, 핸디캡룸, 로얄 스위트룸, 아만티 스위트룸, 에밀리 트윈룸, 에밀리 스위트룸, 에밀리 트리플룸이 있다. 에어컨, TV, 냉장고 등의 기본 시설과 별도의 목욕시설과 욕조가 있어서 편리하다. 외국어 안내 서비스와 장애인 편의 시설, 모닝콜 서비스 등 다양한 서비스가 제공된다. 취사는 할 수 없다. 기본 룸인 스탠더드룸은 비수기에는 주중 평균 130,000원, 성수기에는 평균 240,000원 정도의 가격이다. 세미나실, 예식장, 스포츠시설, 휘트니스센터, 비즈니스 센터 등 다양한 부대시설을 갖추고 있고 수영장과 조식이 유명하다. 주차 시설이 있고 주차 요금이 무료라서 차량을 가지고 방문하기 편리하다. 홍대입구역과 가깝기 때문에 근처 관광거리가 많고 다양한 놀거리를 즐길 수 있다.  \n",
      " 이미지링크: ['http://tong.visitkorea.or.kr/cms/resource/87/2916587_image2_1.jpg', 'http://tong.visitkorea.or.kr/cms/resource/87/2916587_image3_1.jpg'] \n"
     ]
    },
    {
     "data": {
      "text/plain": [
       "AIMessage(content='서울에서 호캉스를 즐길 수 있는 호텔로는 다음을 추천드립니다:\\n\\n1. **캄스테이 서울**\\n   - 주소: 서울특별시 송파구 석촌호수로12길 3-19 (잠실동)\\n   - 소개: 채광이 가득한 감성숙소로, 교통이 편리하며 주변 관광지와 음식점이 가까이 있습니다.\\n   \\n2. **핸드픽트호텔 서울**\\n   - 주소: 서울특별시 동작구 상도로 120 (상도동)\\n   - 소개: 벽돌로 마감된 외관과 다양한 객실 옵션, 레스토랑, 카페 등의 편의시설을 갖추고 있습니다.\\n   \\n3. **아만티호텔서울**\\n   - 주소: 서울특별시 마포구 월드컵북로 31 아만티호텔 서울\\n   - 소개: 홍대입구역 근처에 위치한 4성급 호텔로, 조용하고 쾌적한 분위기를 느낄 수 있으며 다양한 서비스와 부대시설을 제공합니다.\\n\\n이 세 곳은 호캉스를 즐기기에 적합한 호텔들이니 참고하시기 바랍니다.', additional_kwargs={}, example=False)"
      ]
     },
     "execution_count": 63,
     "metadata": {},
     "output_type": "execute_result"
    }
   ],
   "source": [
    "question(\"서울에서 호캉스 즐길만한 호텔 추천해줘!\")"
   ]
  },
  {
   "cell_type": "code",
   "execution_count": null,
   "metadata": {},
   "outputs": [],
   "source": []
  },
  {
   "cell_type": "code",
   "execution_count": null,
   "metadata": {},
   "outputs": [],
   "source": []
  }
 ],
 "metadata": {
  "kernelspec": {
   "display_name": "lanchain",
   "language": "python",
   "name": "python3"
  },
  "language_info": {
   "codemirror_mode": {
    "name": "ipython",
    "version": 3
   },
   "file_extension": ".py",
   "mimetype": "text/x-python",
   "name": "python",
   "nbconvert_exporter": "python",
   "pygments_lexer": "ipython3",
   "version": "3.10.16"
  }
 },
 "nbformat": 4,
 "nbformat_minor": 2
}
